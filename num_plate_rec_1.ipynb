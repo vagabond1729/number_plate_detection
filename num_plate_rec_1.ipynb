{
  "metadata": {
    "language_info": {
      "name": ""
    },
    "kernelspec": {
      "name": "python",
      "display_name": "Python (Pyodide)",
      "language": "python"
    }
  },
  "nbformat_minor": 4,
  "nbformat": 4,
  "cells": [
    {
      "cell_type": "code",
      "source": "!pip install easyocr",
      "metadata": {
        "trusted": true
      },
      "execution_count": null,
      "outputs": []
    },
    {
      "cell_type": "code",
      "source": "import cv2\nfrom matplotlib import pyplot as plt\nimport numpy as np\nimport imutils\nimport easyocr\n     ",
      "metadata": {
        "trusted": true
      },
      "execution_count": null,
      "outputs": []
    },
    {
      "cell_type": "code",
      "source": "cars_cascade = cv2.CascadeClassifier('haarcascade_car.xml')",
      "metadata": {
        "trusted": true
      },
      "execution_count": null,
      "outputs": []
    },
    {
      "cell_type": "code",
      "source": "def Simulator():\n    CarVideo = cv2.VideoCapture('cars.mp4')\n    count = 0\n    while CarVideo.isOpened():\n        ret, frame = CarVideo.read()\n        if ret:        \n            # cv2.imshow('frame', cars_frame)\n            cars = cars_cascade.detectMultiScale(frame, 1.15, 4)\n\n            for (x, y, w, h) in cars:\n                cropped = cv2.rectangle(frame, (x+1, y+1), (x+w,y+h), color=(255, 0, 0), thickness=2)\n                # cv2.imshow(cropped)\n                silpa = frame[y:y+h, x:x+w]\n                cv2.imwrite('frame%d.jpg' %count, silpa)\n                count += 1\n        else:\n            break\n\n    CarVideo.release()\n    cv2.destroyAllWindows()\n\nif __name__ == '__main__':\n    Simulator()\n",
      "metadata": {
        "trusted": true
      },
      "execution_count": null,
      "outputs": []
    },
    {
      "cell_type": "code",
      "source": "#Reading the image\nimg = cv2.imread('frame23.jpg')\ngray = cv2.cvtColor(img, cv2.COLOR_BGR2GRAY)\nplt.imshow(cv2.cvtColor(gray, cv2.COLOR_BGR2RGB))#using another colour conversion since matplotlib expects rgb\n     ",
      "metadata": {
        "trusted": true
      },
      "execution_count": null,
      "outputs": []
    },
    {
      "cell_type": "code",
      "source": "#finding edges for locating\nbfilter = cv2.bilateralFilter(gray, 11, 17, 17) #Noise reduction\nedged = cv2.Canny(bfilter, 30, 200) #Edge detection\nplt.imshow(cv2.cvtColor(edged, cv2.COLOR_BGR2RGB))\n     ",
      "metadata": {
        "trusted": true
      },
      "execution_count": null,
      "outputs": []
    },
    {
      "cell_type": "code",
      "source": "#finding contours\nkeypoints = cv2.findContours(edged.copy(), cv2.RETR_TREE, cv2.CHAIN_APPROX_SIMPLE)\ncontours = imutils.grab_contours(keypoints)\ncontours = sorted(contours, key=cv2.contourArea, reverse=True)[:10]",
      "metadata": {
        "trusted": true
      },
      "execution_count": null,
      "outputs": []
    },
    {
      "cell_type": "code",
      "source": "location = None\nfor contour in contours:\n    approx = cv2.approxPolyDP(contour, 10, True)\n    if len(approx) == 4:\n        location = approx\n        break",
      "metadata": {
        "trusted": true
      },
      "execution_count": null,
      "outputs": []
    },
    {
      "cell_type": "code",
      "source": "print(location)",
      "metadata": {
        "trusted": true
      },
      "execution_count": null,
      "outputs": []
    },
    {
      "cell_type": "code",
      "source": "mask = np.zeros(gray.shape, np.uint8)\nnew_image = cv2.drawContours(mask, [location], 0,255, -1)\nnew_image = cv2.bitwise_and(img, img, mask=mask)\n     ",
      "metadata": {
        "trusted": true
      },
      "execution_count": null,
      "outputs": []
    },
    {
      "cell_type": "code",
      "source": "plt.imshow(cv2.cvtColor(new_image, cv2.COLOR_BGR2RGB))",
      "metadata": {
        "trusted": true
      },
      "execution_count": null,
      "outputs": []
    },
    {
      "cell_type": "code",
      "source": "(x,y) = np.where(mask==255)\n(x1, y1) = (np.min(x), np.min(y))\n(x2, y2) = (np.max(x), np.max(y))\ncropped_image = gray[x1:x2+1, y1:y2+1]",
      "metadata": {
        "trusted": true
      },
      "execution_count": null,
      "outputs": []
    },
    {
      "cell_type": "code",
      "source": "plt.imshow(cv2.cvtColor(cropped_image, cv2.COLOR_BGR2RGB))",
      "metadata": {
        "trusted": true
      },
      "execution_count": null,
      "outputs": []
    },
    {
      "cell_type": "code",
      "source": "#using ocr\nreader = easyocr.Reader(['en'])\nresult = reader.readtext(cropped_image)\nresult",
      "metadata": {
        "trusted": true
      },
      "execution_count": null,
      "outputs": []
    },
    {
      "cell_type": "code",
      "source": "#rendering result\ntext = result[0][-2]\nfont = cv2.FONT_HERSHEY_SIMPLEX\nres = cv2.putText(img, text=text, org=(approx[0][0][0]-60, approx[1][0][1]+60), fontFace=font, fontScale=0.75, color=(0,255,0), thickness=2, lineType=cv2.LINE_AA)\nres = cv2.rectangle(img, tuple(approx[0][0]), tuple(approx[2][0]), (0,255,0),3)\nplt.imshow(cv2.cvtColor(res, cv2.COLOR_BGR2RGB))",
      "metadata": {
        "trusted": true
      },
      "execution_count": null,
      "outputs": []
    }
  ]
}